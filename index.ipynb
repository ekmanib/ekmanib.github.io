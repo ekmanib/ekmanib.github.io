{
  "cells": [
    {
      "cell_type": "raw",
      "metadata": {},
      "source": [
        "---\n",
        "title: \"About\"\n",
        "subtitle: \"About subtitle\"\n",
        "pagetitle: \"{{< meta website.title >}}\"\n",
        "title-block-banner: true\n",
        "main-photo: /assets/pictureme.jpg\n",
        "main-photo-square: /assets/pictureme_square.jpg\n",
        "format: \n",
        "  html: \n",
        "    quarto-template-params:\n",
        "      banner-header-class: \"home\"\n",
        "---"
      ],
      "id": "a442503f"
    },
    {
      "cell_type": "markdown",
      "metadata": {},
      "source": [
        "::: {.grid}\n",
        "\n",
        "::: {.g-col-12 .g-col-sm-4}\n",
        "\n",
        "```{html}\n",
        "\n",
        "```\n",
        "\n",
        ":::\n",
        "\n",
        "::: {.g-col-12 .g-col-sm-8}\n",
        "Description\n",
        ":::\n",
        "\n",
        ":::"
      ],
      "id": "360d7a8f"
    }
  ],
  "metadata": {
    "kernelspec": {
      "name": "python3",
      "language": "python",
      "display_name": "Python 3 (ipykernel)"
    }
  },
  "nbformat": 4,
  "nbformat_minor": 5
}